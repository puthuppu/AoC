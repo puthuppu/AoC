{
 "cells": [
  {
   "cell_type": "markdown",
   "metadata": {},
   "source": [
    "--- Day 3: Binary Diagnostic ---\n",
    "\n",
    "The submarine has been making some odd creaking noises, so you ask it to produce a diagnostic report just in case.\n",
    "\n",
    "The diagnostic report (your puzzle input) consists of a list of binary numbers which, when decoded properly, can tell you many useful things about the conditions of the submarine. The first parameter to check is the **power consumption**.\n",
    "\n",
    "You need to use the binary numbers in the diagnostic report to generate two new binary numbers (called the **gamma rate** and the **epsilon rate**). The power consumption can then be found by multiplying the gamma rate by the epsilon rate.\n",
    "\n",
    "Each bit in the gamma rate can be determined by finding the **most common bit in the corresponding position** of all numbers in the diagnostic report. For example, given the following diagnostic report:\n",
    "\n",
    "```\n",
    "00100\n",
    "11110\n",
    "10110\n",
    "10111\n",
    "10101\n",
    "01111\n",
    "00111\n",
    "11100\n",
    "10000\n",
    "11001\n",
    "00010\n",
    "01010\n",
    "```\n",
    "\n",
    "Considering only the first bit of each number, there are five `0` bits and seven `1` bits. Since the most common bit is `1`, the first bit of the gamma rate is `1`.\n",
    "\n",
    "The most common second bit of the numbers in the diagnostic report is `0`, so the second bit of the gamma rate is `0`.\n",
    "\n",
    "The most common value of the third, fourth, and fifth bits are `1`, `1`, and `0`, respectively, and so the final three bits of the gamma rate are `110`.\n",
    "\n",
    "So, the gamma rate is the binary number `10110`, or `22` in decimal.\n",
    "\n",
    "The epsilon rate is calculated in a similar way; rather than use the most common bit, the least common bit from each position is used. So, the epsilon rate is `01001`, or `9` in decimal. Multiplying the gamma rate (`22`) by the epsilon rate (`9`) produces the power consumption, `198`.\n",
    "\n",
    "Use the binary numbers in your diagnostic report to calculate the gamma rate and epsilon rate, then multiply them together. **What is the power consumption of the submarine**? (Be sure to represent your answer in decimal, not binary.)"
   ]
  },
  {
   "cell_type": "markdown",
   "metadata": {},
   "source": [
    "## Solution\n",
    "\n",
    "I'm assuming that all the bit lengths are the same, but it's good to check.  So I'll write a quick function to add all the bit lengths to a set to remove any duplicate lengths.  If the set returned has more than one length then that might change the method I need to use to determine the most common bits."
   ]
  },
  {
   "cell_type": "markdown",
   "metadata": {},
   "source": []
  },
  {
   "cell_type": "code",
   "execution_count": 1,
   "metadata": {},
   "outputs": [
    {
     "name": "stdout",
     "output_type": "stream",
     "text": [
      "Sample bit lengths: {5}\n",
      "Input Lengths: {12}\n",
      "\n"
     ]
    }
   ],
   "source": [
    "def get_bit_length(filename: str) -> set:\n",
    "    bit_lengths = set()\n",
    "    with open(filename, 'r') as f:\n",
    "        for line in f:\n",
    "            bit_lengths.add(len(line.strip()))\n",
    "    return bit_lengths\n",
    "\n",
    "sample_lengths = get_bit_length('sample.txt')\n",
    "input_lengths = get_bit_length('input.txt')\n",
    "print(f\"Sample bit lengths: {sample_lengths}\\nInput Lengths: {input_lengths}\\n\")"
   ]
  },
  {
   "cell_type": "markdown",
   "metadata": {},
   "source": [
    "Great!  The bit lengths are all consistent per file, so that will make calculating the most common bits per file easier.  However, since the sample has a different bit length than the input, I'll want to account for variability per file.  In order to take advantage of the file object iterator, I can use a matrix to store a counter for each bit position."
   ]
  },
  {
   "cell_type": "code",
   "execution_count": 2,
   "metadata": {},
   "outputs": [
    {
     "name": "stdout",
     "output_type": "stream",
     "text": [
      "[[0, 0], [0, 0], [0, 0], [0, 0], [0, 0]]\n"
     ]
    }
   ],
   "source": [
    "from typing import List\n",
    "\n",
    "\n",
    "def build_matrix(length: int) -> List[List[int]]:\n",
    "    matrix = [[0, 0] for idx in range(0, length)]\n",
    "    return matrix\n",
    "\n",
    "sample_matrix = build_matrix(5)\n",
    "print(sample_matrix)"
   ]
  },
  {
   "cell_type": "markdown",
   "metadata": {},
   "source": [
    "I'll probably also want a function that can take the matrix and the line of input and increment all the counters."
   ]
  },
  {
   "cell_type": "code",
   "execution_count": 3,
   "metadata": {},
   "outputs": [
    {
     "name": "stdout",
     "output_type": "stream",
     "text": [
      "[[1, 0], [1, 0], [0, 1], [1, 0], [1, 0]]\n"
     ]
    }
   ],
   "source": [
    "def count_bits(matrix: List[List[int]], line: str) -> List[List[int]]:\n",
    "    for i in range(0, len(line)):\n",
    "        if line[i] == '0':\n",
    "            matrix[i][0] += 1\n",
    "        else:\n",
    "            matrix[i][1] += 1\n",
    "    return matrix\n",
    "\n",
    "sample_counts = count_bits(sample_matrix, '00100')\n",
    "print(sample_counts)"
   ]
  },
  {
   "cell_type": "markdown",
   "metadata": {},
   "source": [
    "Next I'll need a function to build the string with the most common bits by getting the position of the maximum of each bit counter."
   ]
  },
  {
   "cell_type": "code",
   "execution_count": 4,
   "metadata": {},
   "outputs": [
    {
     "name": "stdout",
     "output_type": "stream",
     "text": [
      "4\n"
     ]
    }
   ],
   "source": [
    "def calc_gamma(matrix: List[List[int]]) -> str:\n",
    "    gamma = ''\n",
    "    for bit_counts in matrix:\n",
    "        gamma += str(bit_counts.index(max(bit_counts)))\n",
    "    return int(str(gamma), 2)\n",
    "\n",
    "sample_gamma = calc_gamma(sample_matrix)\n",
    "print(sample_gamma)"
   ]
  },
  {
   "cell_type": "markdown",
   "metadata": {},
   "source": [
    "Now I think we can string it all together.  I'll need to build the appropriate sized matrix based on the length of the first line and then count the bits for each line.  Finally I'll need to calculate the gamma.  I'll also need the bit length to calculate epsilon."
   ]
  },
  {
   "cell_type": "code",
   "execution_count": 5,
   "metadata": {},
   "outputs": [
    {
     "name": "stdout",
     "output_type": "stream",
     "text": [
      "(22, 5)\n"
     ]
    }
   ],
   "source": [
    "def get_gamma(filename: str) -> int:\n",
    "    with open(filename, 'r') as f:\n",
    "        head = next(f).strip()\n",
    "        matrix = build_matrix(len(head))\n",
    "        matrix = count_bits(matrix, head)\n",
    "        for line in f:\n",
    "            matrix = count_bits(matrix, line.strip())\n",
    "    return (calc_gamma(matrix), len(head))\n",
    "\n",
    "\n",
    "sample_result = get_gamma('sample.txt')\n",
    "print(sample_result)"
   ]
  },
  {
   "cell_type": "markdown",
   "metadata": {},
   "source": [
    "Now that I have gamma, I should be able to calculate epsilon from that.  There's probably a fancy way to do that using XOR or something, but I'm not familiar with it.  So this iteration just gets a function that converts the decimal into binary, reverses the bits, and then converts back to decimal.  Ugly, but effective.  I need the bit length to ensure that the if there are leading zeros in the binary representation of gamma that they are recorded properly.  If they are stripped by the formatting, then the conversion will produce an incorrect value due to the reduce number of bits to convert."
   ]
  },
  {
   "cell_type": "code",
   "execution_count": 6,
   "metadata": {},
   "outputs": [
    {
     "name": "stdout",
     "output_type": "stream",
     "text": [
      "9\n"
     ]
    }
   ],
   "source": [
    "def get_epsilon(gamma: int, bits: int) -> int:\n",
    "    gamma_bit_string = format(gamma, F\"0{bits}b\")\n",
    "    epsilon_bit_string = ''\n",
    "    for bit in gamma_bit_string:\n",
    "        if bit == '0':\n",
    "            epsilon_bit_string += '1'\n",
    "        else:\n",
    "            epsilon_bit_string += '0'\n",
    "    return int(epsilon_bit_string, 2)\n",
    "\n",
    "print(get_epsilon(*sample_result))"
   ]
  },
  {
   "cell_type": "markdown",
   "metadata": {},
   "source": [
    "I think we have all the pieces.  We can test using the sample and then get the puzzle answer if everything looks good."
   ]
  },
  {
   "cell_type": "code",
   "execution_count": 7,
   "metadata": {},
   "outputs": [
    {
     "name": "stdout",
     "output_type": "stream",
     "text": [
      "The sample gamma, 22, multiplied by the sample epsilon, 9, equals 198\n",
      "The puzzle gamma, 1565, multiplied by the puzzle epsilon, 2530, equals 3959450\n"
     ]
    }
   ],
   "source": [
    "sample_gamma = get_gamma('sample.txt')\n",
    "sample_epsilon = get_epsilon(*sample_gamma)\n",
    "sample_answer = sample_gamma[0] * sample_epsilon\n",
    "print(f\"The sample gamma, {sample_gamma[0]}, multiplied by the sample epsilon, {sample_epsilon}, equals {sample_answer}\")\n",
    "puzzle_gamma = get_gamma('input.txt')\n",
    "puzzle_epsilon = get_epsilon(*puzzle_gamma)\n",
    "puzzle_answer = puzzle_gamma[0] * puzzle_epsilon\n",
    "print(f\"The puzzle gamma, {puzzle_gamma[0]}, multiplied by the puzzle epsilon, {puzzle_epsilon}, equals {puzzle_answer}\")\n"
   ]
  }
 ],
 "metadata": {
  "interpreter": {
   "hash": "4d236ac206291b401793bd7154be7812ec8568e39af22131c22422d536f335c0"
  },
  "kernelspec": {
   "display_name": "Python 3.8.5 64-bit ('AoC': conda)",
   "language": "python",
   "name": "python3"
  },
  "language_info": {
   "codemirror_mode": {
    "name": "ipython",
    "version": 3
   },
   "file_extension": ".py",
   "mimetype": "text/x-python",
   "name": "python",
   "nbconvert_exporter": "python",
   "pygments_lexer": "ipython3",
   "version": "3.8.12"
  },
  "orig_nbformat": 4
 },
 "nbformat": 4,
 "nbformat_minor": 2
}

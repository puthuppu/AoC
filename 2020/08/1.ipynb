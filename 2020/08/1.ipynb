{
 "metadata": {
  "language_info": {
   "codemirror_mode": {
    "name": "ipython",
    "version": 3
   },
   "file_extension": ".py",
   "mimetype": "text/x-python",
   "name": "python",
   "nbconvert_exporter": "python",
   "pygments_lexer": "ipython3",
   "version": "3.8.5-final"
  },
  "orig_nbformat": 2,
  "kernelspec": {
   "name": "python3",
   "display_name": "Python 3",
   "language": "python"
  }
 },
 "nbformat": 4,
 "nbformat_minor": 2,
 "cells": [
  {
   "source": [
    "--- Day 8: Handheld Halting ---\n",
    "\n",
    "Your flight to the major airline hub reaches cruising altitude without incident. While you consider checking the in-flight menu for one of those drinks that come with a little umbrella, you are interrupted by the kid sitting next to you.\n",
    "\n",
    "Their handheld game console won't turn on! They ask if you can take a look.\n",
    "\n",
    "You narrow the problem down to a strange infinite loop in the boot code (your puzzle input) of the device. You should be able to fix it, but first you need to be able to run the code in isolation.\n",
    "\n",
    "The boot code is represented as a text file with one instruction per line of text. Each instruction consists of an operation (acc, jmp, or nop) and an argument (a signed number like +4 or -20).\n",
    "\n",
    "* acc increases or decreases a single global value called the accumulator by the value given in the argument. For example, acc +7 would increase the accumulator by 7. The accumulator starts at 0. After an acc instruction, the instruction immediately below it is executed next.\n",
    "* jmp jumps to a new instruction relative to itself. The next instruction to execute is found using the argument as an offset from the jmp instruction; for example, jmp +2 would skip the next instruction, jmp +1 would continue to the instruction immediately below it, and jmp -20 would cause the instruction 20 lines above to be executed next.\n",
    "* nop stands for No OPeration - it does nothing. The instruction immediately below it is executed next.\n",
    "\n",
    "For example, consider the following program:\n",
    "\n",
    "```text\n",
    "nop +0\n",
    "acc +1\n",
    "jmp +4\n",
    "acc +3\n",
    "jmp -3\n",
    "acc -99\n",
    "acc +1\n",
    "jmp -4\n",
    "acc +6\n",
    "```\n",
    "\n",
    "These instructions are visited in this order:\n",
    "\n",
    "```text\n",
    "nop +0  | 1\n",
    "acc +1  | 2, 8(!)\n",
    "jmp +4  | 3\n",
    "acc +3  | 6\n",
    "jmp -3  | 7\n",
    "acc -99 |\n",
    "acc +1  | 4\n",
    "jmp -4  | 5\n",
    "acc +6  |\n",
    "```\n",
    "\n",
    "First, the nop +0 does nothing. Then, the accumulator is increased from 0 to 1 (acc +1) and jmp +4 sets the next instruction to the other acc +1 near the bottom. After it increases the accumulator from 1 to 2, jmp -4 executes, setting the next instruction to the only acc +3. It sets the accumulator to 5, and jmp -3 causes the program to continue back at the first acc +1.\n",
    "\n",
    "This is an infinite loop: with this sequence of jumps, the program will run forever. The moment the program tries to run any instruction a second time, you know it will never terminate.\n",
    "\n",
    "Immediately before the program would run an instruction a second time, the value in the accumulator is 5.\n",
    "\n",
    "Run your copy of the boot code. Immediately before any instruction is executed a second time, what value is in the accumulator?\n"
   ],
   "cell_type": "markdown",
   "metadata": {}
  },
  {
   "cell_type": "code",
   "execution_count": 1,
   "metadata": {},
   "outputs": [],
   "source": [
    "def execute_line(line, idx, accumulator):\n",
    "    action, value = line.split()\n",
    "    value = int(value)\n",
    "    return {\n",
    "        'nop': [idx + 1, accumulator],\n",
    "        'acc': [idx + 1, accumulator + value],\n",
    "        'jmp': [idx + value, accumulator]\n",
    "    }.get(action)\n"
   ]
  },
  {
   "cell_type": "code",
   "execution_count": 2,
   "metadata": {},
   "outputs": [],
   "source": [
    "def run_program(filename):\n",
    "    accumulator = 0\n",
    "    idx = 0\n",
    "    executed_lines = []\n",
    "    with open(filename) as program:\n",
    "        lines = program.readlines()\n",
    "    while(idx < len(lines)):\n",
    "        if idx in executed_lines:\n",
    "            break\n",
    "        executed_lines.append(idx)\n",
    "        idx, accumulator = execute_line(lines[idx], idx, accumulator)\n",
    "    else:\n",
    "        print('Finished')\n",
    "    print(f'current index: {idx}\\n{executed_lines}')\n",
    "    return accumulator"
   ]
  },
  {
   "cell_type": "code",
   "execution_count": 3,
   "metadata": {
    "tags": []
   },
   "outputs": [
    {
     "output_type": "stream",
     "name": "stdout",
     "text": [
      "current index: 364\n[0, 1, 2, 3, 4, 113, 241, 364, 365, 386, 387, 388, 389, 176, 177, 178, 179, 370, 371, 372, 373, 516, 517, 561, 562, 394, 395, 489, 11, 12, 13, 14, 15, 96, 97, 98, 99, 414, 415, 416, 417, 83, 84, 85, 86, 292, 293, 294, 78, 79, 80, 541, 542, 543, 544, 525, 609, 610, 611, 612, 88, 89, 90, 91, 92, 67, 166, 167, 168, 575, 576, 577, 156, 157, 158, 159, 483, 484, 485, 486, 487, 116, 117, 243, 244, 245, 246, 44, 452, 453, 546, 547, 7, 8, 335, 34, 35, 123, 124, 125, 126, 127, 300, 301, 302, 303, 304, 257, 258, 259, 498, 499, 500, 279, 280, 495, 357, 358, 359, 421, 422, 147, 148, 149, 150, 151, 571, 602, 603, 604, 462, 463, 464, 617, 618, 619, 620, 621, 189, 190, 191, 192, 193, 597, 598, 599, 296, 297, 298, 551, 355, 136, 137, 227, 219, 220, 221, 512, 513, 514, 410, 434, 435, 436, 437, 438, 20, 21, 375, 376, 347, 348, 349, 350, 181, 182, 183, 104, 105, 106, 107, 342, 196, 197, 198, 199, 519, 520, 521, 251, 252, 253]\n"
     ]
    },
    {
     "output_type": "execute_result",
     "data": {
      "text/plain": [
       "1179"
      ]
     },
     "metadata": {},
     "execution_count": 3
    }
   ],
   "source": [
    "run_program('input.txt')"
   ]
  },
  {
   "source": [
    "--- Part Two ---\n",
    "\n",
    "After some careful analysis, you believe that exactly one instruction is corrupted.\n",
    "\n",
    "Somewhere in the program, either a jmp is supposed to be a nop, or a nop is supposed to be a jmp. (No acc instructions were harmed in the corruption of this boot code.)\n",
    "\n",
    "The program is supposed to terminate by attempting to execute an instruction immediately after the last instruction in the file. By changing exactly one jmp or nop, you can repair the boot code and make it terminate correctly.\n",
    "\n",
    "For example, consider the same program from above:\n",
    "\n",
    "```text\n",
    "nop +0\n",
    "acc +1\n",
    "jmp +4\n",
    "acc +3\n",
    "jmp -3\n",
    "acc -99\n",
    "acc +1\n",
    "jmp -4\n",
    "acc +6\n",
    "```\n",
    "\n",
    "If you change the first instruction from nop +0 to jmp +0, it would create a single-instruction infinite loop, never leaving that instruction. If you change almost any of the jmp instructions, the program will still eventually find another jmp instruction and loop forever.\n",
    "\n",
    "However, if you change the second-to-last instruction (from jmp -4 to nop -4), the program terminates! The instructions are visited in this order:\n",
    "\n",
    "```text\n",
    "nop +0  | 1\n",
    "acc +1  | 2\n",
    "jmp +4  | 3\n",
    "acc +3  |\n",
    "jmp -3  |\n",
    "acc -99 |\n",
    "acc +1  | 4\n",
    "nop -4  | 5\n",
    "acc +6  | 6\n",
    "```\n",
    "\n",
    "After the last instruction (acc +6), the program terminates by attempting to run the instruction below the last instruction in the file. With this change, after the program terminates, the accumulator contains the value 8 (acc +1, acc +1, acc +6).\n",
    "\n",
    "Fix the program so that it terminates normally by changing exactly one jmp (to nop) or nop (to jmp). What is the value of the accumulator after the program terminates?\n"
   ],
   "cell_type": "markdown",
   "metadata": {}
  },
  {
   "cell_type": "code",
   "execution_count": 4,
   "metadata": {},
   "outputs": [],
   "source": [
    "import re"
   ]
  },
  {
   "cell_type": "code",
   "execution_count": 5,
   "metadata": {},
   "outputs": [],
   "source": [
    "def debug_line(line, idx, accumulator):\n",
    "    action, value = line.split()\n",
    "    value = int(value)\n",
    "    result = {\n",
    "        'nop': [idx + 1, accumulator],\n",
    "        'acc': [idx + 1, accumulator + value],\n",
    "        'jmp': [idx + value, accumulator]\n",
    "    }.get(action)\n",
    "    result.append(line.rstrip())\n",
    "    return result"
   ]
  },
  {
   "cell_type": "code",
   "execution_count": 6,
   "metadata": {},
   "outputs": [
    {
     "output_type": "execute_result",
     "data": {
      "text/plain": [
       "[1, 0, 'nop +111']"
      ]
     },
     "metadata": {},
     "execution_count": 6
    }
   ],
   "source": [
    "debug_line('nop +111', 0, 0)"
   ]
  },
  {
   "cell_type": "code",
   "execution_count": 7,
   "metadata": {},
   "outputs": [],
   "source": [
    "def debug_program(lines):\n",
    "    accumulator = 0\n",
    "    idx = 0\n",
    "    executed_lines = {}\n",
    "    finished = False\n",
    "    while(idx < len(lines)):\n",
    "        if idx in executed_lines.keys():\n",
    "            break\n",
    "        executed_lines[idx] = lines[idx].rstrip()\n",
    "        idx, accumulator, action = debug_line(lines[idx], idx, accumulator)\n",
    "    else:\n",
    "        finished = True\n",
    "    return finished, accumulator, executed_lines"
   ]
  },
  {
   "cell_type": "code",
   "execution_count": 8,
   "metadata": {},
   "outputs": [],
   "source": [
    "with open('input.txt') as prog:\n",
    "    lines = prog.readlines()\n",
    "finished, total, op_path = debug_program(lines)"
   ]
  },
  {
   "cell_type": "code",
   "execution_count": 9,
   "metadata": {},
   "outputs": [
    {
     "output_type": "execute_result",
     "data": {
      "text/plain": [
       "1179"
      ]
     },
     "metadata": {},
     "execution_count": 9
    }
   ],
   "source": [
    "total"
   ]
  },
  {
   "cell_type": "code",
   "execution_count": 10,
   "metadata": {},
   "outputs": [
    {
     "output_type": "execute_result",
     "data": {
      "text/plain": [
       "{0: 'nop +283',\n",
       " 1: 'acc +26',\n",
       " 2: 'acc +37',\n",
       " 3: 'acc +6',\n",
       " 4: 'jmp +109',\n",
       " 113: 'jmp +128',\n",
       " 241: 'jmp +123',\n",
       " 364: 'acc +25',\n",
       " 365: 'jmp +21',\n",
       " 386: 'nop +57',\n",
       " 387: 'acc -16',\n",
       " 388: 'acc +25',\n",
       " 389: 'jmp -213',\n",
       " 176: 'acc +3',\n",
       " 177: 'jmp +1',\n",
       " 178: 'acc +34',\n",
       " 179: 'jmp +191',\n",
       " 370: 'acc +24',\n",
       " 371: 'acc +23',\n",
       " 372: 'acc +13',\n",
       " 373: 'jmp +143',\n",
       " 516: 'acc -14',\n",
       " 517: 'jmp +44',\n",
       " 561: 'acc +44',\n",
       " 562: 'jmp -168',\n",
       " 394: 'acc +42',\n",
       " 395: 'jmp +94',\n",
       " 489: 'jmp -478',\n",
       " 11: 'acc -7',\n",
       " 12: 'acc +27',\n",
       " 13: 'nop +7',\n",
       " 14: 'acc +0',\n",
       " 15: 'jmp +81',\n",
       " 96: 'nop +145',\n",
       " 97: 'acc +4',\n",
       " 98: 'acc +28',\n",
       " 99: 'jmp +315',\n",
       " 414: 'acc +22',\n",
       " 415: 'acc +9',\n",
       " 416: 'nop +92',\n",
       " 417: 'jmp -334',\n",
       " 83: 'acc -9',\n",
       " 84: 'nop +199',\n",
       " 85: 'acc +15',\n",
       " 86: 'jmp +206',\n",
       " 292: 'acc -10',\n",
       " 293: 'nop -189',\n",
       " 294: 'jmp -216',\n",
       " 78: 'acc -6',\n",
       " 79: 'acc +42',\n",
       " 80: 'jmp +461',\n",
       " 541: 'acc +24',\n",
       " 542: 'acc +30',\n",
       " 543: 'acc +14',\n",
       " 544: 'jmp -19',\n",
       " 525: 'jmp +84',\n",
       " 609: 'acc +42',\n",
       " 610: 'nop -318',\n",
       " 611: 'acc +36',\n",
       " 612: 'jmp -524',\n",
       " 88: 'acc +35',\n",
       " 89: 'nop +275',\n",
       " 90: 'acc +3',\n",
       " 91: 'jmp +1',\n",
       " 92: 'jmp -25',\n",
       " 67: 'jmp +99',\n",
       " 166: 'acc -12',\n",
       " 167: 'acc +23',\n",
       " 168: 'jmp +407',\n",
       " 575: 'acc -2',\n",
       " 576: 'acc +3',\n",
       " 577: 'jmp -421',\n",
       " 156: 'acc +25',\n",
       " 157: 'acc +3',\n",
       " 158: 'acc -1',\n",
       " 159: 'jmp +324',\n",
       " 483: 'nop -313',\n",
       " 484: 'acc +20',\n",
       " 485: 'acc -7',\n",
       " 486: 'acc -10',\n",
       " 487: 'jmp -371',\n",
       " 116: 'acc -7',\n",
       " 117: 'jmp +126',\n",
       " 243: 'acc +24',\n",
       " 244: 'acc +50',\n",
       " 245: 'acc -10',\n",
       " 246: 'jmp -202',\n",
       " 44: 'jmp +408',\n",
       " 452: 'acc -14',\n",
       " 453: 'jmp +93',\n",
       " 546: 'acc +19',\n",
       " 547: 'jmp -540',\n",
       " 7: 'acc +5',\n",
       " 8: 'jmp +327',\n",
       " 335: 'jmp -301',\n",
       " 34: 'acc -19',\n",
       " 35: 'jmp +88',\n",
       " 123: 'acc +0',\n",
       " 124: 'nop +133',\n",
       " 125: 'acc +36',\n",
       " 126: 'acc +32',\n",
       " 127: 'jmp +173',\n",
       " 300: 'acc -7',\n",
       " 301: 'acc +14',\n",
       " 302: 'nop +315',\n",
       " 303: 'acc +11',\n",
       " 304: 'jmp -47',\n",
       " 257: 'acc -2',\n",
       " 258: 'nop +194',\n",
       " 259: 'jmp +239',\n",
       " 498: 'acc +47',\n",
       " 499: 'acc -2',\n",
       " 500: 'jmp -221',\n",
       " 279: 'acc +48',\n",
       " 280: 'jmp +215',\n",
       " 495: 'jmp -138',\n",
       " 357: 'acc -4',\n",
       " 358: 'acc +1',\n",
       " 359: 'jmp +62',\n",
       " 421: 'acc +8',\n",
       " 422: 'jmp -275',\n",
       " 147: 'acc +38',\n",
       " 148: 'acc +1',\n",
       " 149: 'acc +27',\n",
       " 150: 'jmp +1',\n",
       " 151: 'jmp +420',\n",
       " 571: 'jmp +31',\n",
       " 602: 'acc -10',\n",
       " 603: 'acc +33',\n",
       " 604: 'jmp -142',\n",
       " 462: 'acc -3',\n",
       " 463: 'acc +18',\n",
       " 464: 'jmp +153',\n",
       " 617: 'acc +28',\n",
       " 618: 'acc +38',\n",
       " 619: 'acc -17',\n",
       " 620: 'acc +2',\n",
       " 621: 'jmp -432',\n",
       " 189: 'acc -18',\n",
       " 190: 'acc +49',\n",
       " 191: 'nop -184',\n",
       " 192: 'acc +20',\n",
       " 193: 'jmp +404',\n",
       " 597: 'jmp +1',\n",
       " 598: 'acc +32',\n",
       " 599: 'jmp -303',\n",
       " 296: 'acc -8',\n",
       " 297: 'acc +22',\n",
       " 298: 'jmp +253',\n",
       " 551: 'jmp -196',\n",
       " 355: 'jmp -219',\n",
       " 136: 'acc +4',\n",
       " 137: 'jmp +90',\n",
       " 227: 'jmp -8',\n",
       " 219: 'acc -9',\n",
       " 220: 'acc +32',\n",
       " 221: 'jmp +291',\n",
       " 512: 'acc +0',\n",
       " 513: 'nop -397',\n",
       " 514: 'jmp -104',\n",
       " 410: 'jmp +24',\n",
       " 434: 'acc +28',\n",
       " 435: 'acc -10',\n",
       " 436: 'nop +151',\n",
       " 437: 'acc +17',\n",
       " 438: 'jmp -418',\n",
       " 20: 'nop +276',\n",
       " 21: 'jmp +354',\n",
       " 375: 'nop +212',\n",
       " 376: 'jmp -29',\n",
       " 347: 'acc +4',\n",
       " 348: 'acc -8',\n",
       " 349: 'acc +14',\n",
       " 350: 'jmp -169',\n",
       " 181: 'acc -18',\n",
       " 182: 'acc +33',\n",
       " 183: 'jmp -79',\n",
       " 104: 'acc -16',\n",
       " 105: 'acc +5',\n",
       " 106: 'nop -10',\n",
       " 107: 'jmp +235',\n",
       " 342: 'jmp -146',\n",
       " 196: 'acc -12',\n",
       " 197: 'jmp +1',\n",
       " 198: 'acc +8',\n",
       " 199: 'jmp +320',\n",
       " 519: 'acc -7',\n",
       " 520: 'acc -18',\n",
       " 521: 'jmp -270',\n",
       " 251: 'acc -4',\n",
       " 252: 'acc +41',\n",
       " 253: 'jmp +111'}"
      ]
     },
     "metadata": {},
     "execution_count": 10
    }
   ],
   "source": [
    "op_path"
   ]
  },
  {
   "cell_type": "code",
   "execution_count": 11,
   "metadata": {},
   "outputs": [],
   "source": [
    "def match_line(line):\n",
    "    action, count = line.rstrip().split()\n",
    "    return {\n",
    "        'nop':'jmp '+count,\n",
    "        'jmp':'nop '+count,\n",
    "        'acc':'acc '+count\n",
    "    }.get(action)"
   ]
  },
  {
   "cell_type": "code",
   "execution_count": 12,
   "metadata": {},
   "outputs": [],
   "source": [
    "def fix_program(lines):\n",
    "    fixed = False\n",
    "    idx = 0\n",
    "    while not fixed:\n",
    "        new_lines = lines.copy()\n",
    "        new_lines[idx] = match_line(new_lines[idx])\n",
    "        fixed, total, op_path = debug_program(new_lines)\n",
    "        idx += 1\n",
    "    return fixed, idx, total, op_path\n"
   ]
  },
  {
   "cell_type": "code",
   "execution_count": 13,
   "metadata": {
    "tags": []
   },
   "outputs": [],
   "source": [
    "new_lines = lines.copy()\n",
    "fixed, idx, total, op_path = fix_program(new_lines)"
   ]
  },
  {
   "cell_type": "code",
   "execution_count": 14,
   "metadata": {},
   "outputs": [
    {
     "output_type": "execute_result",
     "data": {
      "text/plain": [
       "True"
      ]
     },
     "metadata": {},
     "execution_count": 14
    }
   ],
   "source": [
    "fixed"
   ]
  },
  {
   "cell_type": "code",
   "execution_count": 15,
   "metadata": {},
   "outputs": [
    {
     "output_type": "execute_result",
     "data": {
      "text/plain": [
       "305"
      ]
     },
     "metadata": {},
     "execution_count": 15
    }
   ],
   "source": [
    "idx"
   ]
  },
  {
   "cell_type": "code",
   "execution_count": 16,
   "metadata": {},
   "outputs": [
    {
     "output_type": "execute_result",
     "data": {
      "text/plain": [
       "'nop -36\\n'"
      ]
     },
     "metadata": {},
     "execution_count": 16
    }
   ],
   "source": [
    "lines[idx]"
   ]
  },
  {
   "cell_type": "code",
   "execution_count": 17,
   "metadata": {},
   "outputs": [
    {
     "output_type": "execute_result",
     "data": {
      "text/plain": [
       "1089"
      ]
     },
     "metadata": {},
     "execution_count": 17
    }
   ],
   "source": [
    "total"
   ]
  },
  {
   "cell_type": "code",
   "execution_count": 18,
   "metadata": {},
   "outputs": [
    {
     "output_type": "execute_result",
     "data": {
      "text/plain": [
       "{0: 'nop +283',\n",
       " 1: 'acc +26',\n",
       " 2: 'acc +37',\n",
       " 3: 'acc +6',\n",
       " 4: 'jmp +109',\n",
       " 113: 'jmp +128',\n",
       " 241: 'jmp +123',\n",
       " 364: 'acc +25',\n",
       " 365: 'jmp +21',\n",
       " 386: 'nop +57',\n",
       " 387: 'acc -16',\n",
       " 388: 'acc +25',\n",
       " 389: 'jmp -213',\n",
       " 176: 'acc +3',\n",
       " 177: 'jmp +1',\n",
       " 178: 'acc +34',\n",
       " 179: 'jmp +191',\n",
       " 370: 'acc +24',\n",
       " 371: 'acc +23',\n",
       " 372: 'acc +13',\n",
       " 373: 'jmp +143',\n",
       " 516: 'acc -14',\n",
       " 517: 'jmp +44',\n",
       " 561: 'acc +44',\n",
       " 562: 'jmp -168',\n",
       " 394: 'acc +42',\n",
       " 395: 'jmp +94',\n",
       " 489: 'jmp -478',\n",
       " 11: 'acc -7',\n",
       " 12: 'acc +27',\n",
       " 13: 'nop +7',\n",
       " 14: 'acc +0',\n",
       " 15: 'jmp +81',\n",
       " 96: 'nop +145',\n",
       " 97: 'acc +4',\n",
       " 98: 'acc +28',\n",
       " 99: 'jmp +315',\n",
       " 414: 'acc +22',\n",
       " 415: 'acc +9',\n",
       " 416: 'nop +92',\n",
       " 417: 'jmp -334',\n",
       " 83: 'acc -9',\n",
       " 84: 'nop +199',\n",
       " 85: 'acc +15',\n",
       " 86: 'jmp +206',\n",
       " 292: 'acc -10',\n",
       " 293: 'nop -189',\n",
       " 294: 'jmp -216',\n",
       " 78: 'acc -6',\n",
       " 79: 'acc +42',\n",
       " 80: 'jmp +461',\n",
       " 541: 'acc +24',\n",
       " 542: 'acc +30',\n",
       " 543: 'acc +14',\n",
       " 544: 'jmp -19',\n",
       " 525: 'jmp +84',\n",
       " 609: 'acc +42',\n",
       " 610: 'nop -318',\n",
       " 611: 'acc +36',\n",
       " 612: 'jmp -524',\n",
       " 88: 'acc +35',\n",
       " 89: 'nop +275',\n",
       " 90: 'acc +3',\n",
       " 91: 'jmp +1',\n",
       " 92: 'jmp -25',\n",
       " 67: 'jmp +99',\n",
       " 166: 'acc -12',\n",
       " 167: 'acc +23',\n",
       " 168: 'jmp +407',\n",
       " 575: 'acc -2',\n",
       " 576: 'acc +3',\n",
       " 577: 'jmp -421',\n",
       " 156: 'acc +25',\n",
       " 157: 'acc +3',\n",
       " 158: 'acc -1',\n",
       " 159: 'jmp +324',\n",
       " 483: 'nop -313',\n",
       " 484: 'acc +20',\n",
       " 485: 'acc -7',\n",
       " 486: 'acc -10',\n",
       " 487: 'jmp -371',\n",
       " 116: 'acc -7',\n",
       " 117: 'jmp +126',\n",
       " 243: 'acc +24',\n",
       " 244: 'acc +50',\n",
       " 245: 'acc -10',\n",
       " 246: 'jmp -202',\n",
       " 44: 'jmp +408',\n",
       " 452: 'acc -14',\n",
       " 453: 'jmp +93',\n",
       " 546: 'acc +19',\n",
       " 547: 'jmp -540',\n",
       " 7: 'acc +5',\n",
       " 8: 'jmp +327',\n",
       " 335: 'jmp -301',\n",
       " 34: 'acc -19',\n",
       " 35: 'jmp +88',\n",
       " 123: 'acc +0',\n",
       " 124: 'nop +133',\n",
       " 125: 'acc +36',\n",
       " 126: 'acc +32',\n",
       " 127: 'jmp +173',\n",
       " 300: 'acc -7',\n",
       " 301: 'acc +14',\n",
       " 302: 'nop +315',\n",
       " 303: 'acc +11',\n",
       " 304: 'nop -47',\n",
       " 305: 'nop -36',\n",
       " 306: 'acc +40',\n",
       " 307: 'jmp +95',\n",
       " 402: 'acc +47',\n",
       " 403: 'acc +24',\n",
       " 404: 'acc +9',\n",
       " 405: 'acc +25',\n",
       " 406: 'jmp +151',\n",
       " 557: 'acc +23',\n",
       " 558: 'jmp -245',\n",
       " 313: 'acc -17',\n",
       " 314: 'acc +20',\n",
       " 315: 'acc -5',\n",
       " 316: 'acc +6',\n",
       " 317: 'jmp +221',\n",
       " 538: 'nop +19',\n",
       " 539: 'jmp -490',\n",
       " 49: 'acc -19',\n",
       " 50: 'acc -19',\n",
       " 51: 'acc +38',\n",
       " 52: 'acc -10',\n",
       " 53: 'jmp +476',\n",
       " 529: 'acc +37',\n",
       " 530: 'acc -19',\n",
       " 531: 'acc -9',\n",
       " 532: 'jmp -200',\n",
       " 332: 'acc +12',\n",
       " 333: 'jmp -292',\n",
       " 41: 'acc +22',\n",
       " 42: 'jmp +584',\n",
       " 626: 'acc +38',\n",
       " 627: 'acc +49',\n",
       " 628: 'nop -99',\n",
       " 629: 'acc +50',\n",
       " 630: 'jmp +1'}"
      ]
     },
     "metadata": {},
     "execution_count": 18
    }
   ],
   "source": [
    "op_path"
   ]
  }
 ]
}
{
 "metadata": {
  "language_info": {
   "codemirror_mode": {
    "name": "ipython",
    "version": 3
   },
   "file_extension": ".py",
   "mimetype": "text/x-python",
   "name": "python",
   "nbconvert_exporter": "python",
   "pygments_lexer": "ipython3",
   "version": "3.8.5-final"
  },
  "orig_nbformat": 2,
  "kernelspec": {
   "name": "python3",
   "display_name": "Python 3",
   "language": "python"
  }
 },
 "nbformat": 4,
 "nbformat_minor": 2,
 "cells": [
  {
   "source": [
    "--- Day 7: Handy Haversacks ---\n",
    "\n",
    "You land at the regional airport in time for your next flight. In fact, it looks like you'll even have time to grab some food: all flights are currently delayed due to __issues in luggage processing__.\n",
    "\n",
    "Due to recent aviation regulations, many rules (your puzzle input) are being enforced about bags and their contents; bags must be color-coded and must contain specific quantities of other color-coded bags. Apparently, nobody responsible for these regulations considered how long they would take to enforce!\n",
    "\n",
    "For example, consider the following rules:\n",
    "\n",
    "```text\n",
    "light red bags contain 1 bright white bag, 2 muted yellow bags.\n",
    "dark orange bags contain 3 bright white bags, 4 muted yellow bags.\n",
    "bright white bags contain 1 shiny gold bag.\n",
    "muted yellow bags contain 2 shiny gold bags, 9 faded blue bags.\n",
    "shiny gold bags contain 1 dark olive bag, 2 vibrant plum bags.\n",
    "dark olive bags contain 3 faded blue bags, 4 dotted black bags.\n",
    "vibrant plum bags contain 5 faded blue bags, 6 dotted black bags.\n",
    "faded blue bags contain no other bags.\n",
    "dotted black bags contain no other bags.\n",
    "```\n",
    "\n",
    "These rules specify the required contents for 9 bag types. In this example, every `faded blue` bag is empty, every `vibrant plum` bag contains 11 bags (5 `faded blue` and 6 `dotted black`), and so on.\n",
    "\n",
    "You have a `shiny gold` bag. If you wanted to carry it in at least one other bag, how many different bag colors would be valid for the outermost bag? (In other words: how many colors can, eventually, contain at least one `shiny gold` bag?)\n",
    "\n",
    "In the above rules, the following options would be available to you:\n",
    "\n",
    "* A `bright white` bag, which can hold your `shiny gold` bag directly.\n",
    "* A `muted yellow` bag, which can hold your `shiny gold` bag directly, plus some other bags.\n",
    "* A `dark orange` bag, which can hold `bright white` and `muted yellow bags`, either of which could then hold your `shiny gold` bag.\n",
    "* A `light red` bag, which can hold `bright white` and `muted yellow bags`, either of which could then hold your `shiny gold` bag.\n",
    "\n",
    "So, in this example, the number of bag colors that can eventually contain at least one `shiny gold` bag is `4`.\n",
    "\n",
    "__How many bag colors can eventually contain at least one shiny gold bag?__ (The list of rules is quite long; make sure you get all of it.)\n"
   ],
   "cell_type": "markdown",
   "metadata": {}
  },
  {
   "cell_type": "code",
   "execution_count": 1,
   "metadata": {},
   "outputs": [],
   "source": [
    "def split_line(line):\n",
    "    node = {}\n",
    "    parent, remainder = line.replace('gs', 'g').rstrip('.\\n').split(' contain ')\n",
    "    node['node'] = parent\n",
    "    for child in remainder.split(', '):\n",
    "        if child != 'no other bag':\n",
    "            node[child[2:]] = int(child[0])\n",
    "    return node"
   ]
  },
  {
   "cell_type": "code",
   "execution_count": 2,
   "metadata": {},
   "outputs": [],
   "source": [
    "def get_parents(target, node_list):\n",
    "    return [node for node in node_list if target in node.keys()]"
   ]
  },
  {
   "cell_type": "code",
   "execution_count": 3,
   "metadata": {},
   "outputs": [],
   "source": [
    "def get_all_parents(node_list, known_parents):\n",
    "    new_level = []\n",
    "    for parent in known_parents:\n",
    "        new_level += get_parents(parent['node'], node_list)\n",
    "    if not new_level:\n",
    "        return known_parents\n",
    "    else:\n",
    "        return known_parents + get_all_parents(node_list, new_level)"
   ]
  },
  {
   "cell_type": "code",
   "execution_count": 4,
   "metadata": {},
   "outputs": [
    {
     "output_type": "execute_result",
     "data": {
      "text/plain": [
       "7"
      ]
     },
     "metadata": {},
     "execution_count": 4
    }
   ],
   "source": [
    "nodes = []\n",
    "with open('input.txt') as rules:\n",
    "    for rule in rules:\n",
    "        nodes.append(split_line(rule))\n",
    "direct = get_parents('shiny gold bag', nodes)\n",
    "len(direct)"
   ]
  },
  {
   "cell_type": "code",
   "execution_count": 5,
   "metadata": {},
   "outputs": [
    {
     "output_type": "execute_result",
     "data": {
      "text/plain": [
       "399"
      ]
     },
     "metadata": {},
     "execution_count": 5
    }
   ],
   "source": [
    "len(get_all_parents(nodes, direct))"
   ]
  },
  {
   "cell_type": "code",
   "execution_count": 6,
   "metadata": {},
   "outputs": [
    {
     "output_type": "execute_result",
     "data": {
      "text/plain": [
       "229"
      ]
     },
     "metadata": {},
     "execution_count": 6
    }
   ],
   "source": [
    "len(set([node['node'] for node in get_all_parents(nodes, direct)]))"
   ]
  },
  {
   "source": [
    "--- Part Two ---\n",
    "\n",
    "It's getting pretty expensive to fly these days - not because of ticket prices, but because of the ridiculous number of bags you need to buy!\n",
    "\n",
    "Consider again your `shiny gold bag` and the rules from the above example:\n",
    "\n",
    "* `faded blue` bags contain `0` other bags.\n",
    "* `dotted black` bags contain `0` other bags.\n",
    "* `vibrant plum` bags contain `11` other bags: 5 `faded blue` bags and 6 `dotted black` bags.\n",
    "* `dark olive` bags contain `7` other bags: 3 `faded blue` bags and 4 `dotted black` bags.\n",
    "\n",
    "So, a single `shiny gold` bag must contain 1 `dark olive` bag (and the 7 bags within it) plus 2 `vibrant plum` bags (and the 11 bags within __each__ of those): `1 + 1*7 + 2 + 2*11` = `32` bags!\n",
    "\n",
    "Of course, the actual rules have a small chance of going several levels deeper than this example; be sure to count all of the bags, even if the nesting becomes topologically impractical!\n",
    "\n",
    "Here's another example:\n",
    "\n",
    "```text\n",
    "shiny gold bags contain 2 dark red bags.\n",
    "dark red bags contain 2 dark orange bags.\n",
    "dark orange bags contain 2 dark yellow bags.\n",
    "dark yellow bags contain 2 dark green bags.\n",
    "dark green bags contain 2 dark blue bags.\n",
    "dark blue bags contain 2 dark violet bags.\n",
    "dark violet bags contain no other bags.\n",
    "```\n",
    "\n",
    "In this example, a `single shiny gold` bag must contain `126` other bags.\n",
    "\n",
    "__How many individual bags are required inside your single shiny gold bag?__\n"
   ],
   "cell_type": "markdown",
   "metadata": {}
  },
  {
   "source": [
    "def total_bags(target, node_list):\n",
    "    count = 0\n",
    "    node = [node for node in node_list if node['node'] == target][0]\n",
    "    children = [key for key in node.keys() if key != 'node']\n",
    "    if not children:\n",
    "        return 0\n",
    "    else:\n",
    "        for child in children:\n",
    "            count += node[child] + node[child] * total_bags(child, node_list)\n",
    "    return count"
   ],
   "cell_type": "code",
   "metadata": {},
   "execution_count": 7,
   "outputs": []
  },
  {
   "cell_type": "code",
   "execution_count": 8,
   "metadata": {},
   "outputs": [
    {
     "output_type": "execute_result",
     "data": {
      "text/plain": [
       "6683"
      ]
     },
     "metadata": {},
     "execution_count": 8
    }
   ],
   "source": [
    "total_bags('shiny gold bag', nodes)"
   ]
  },
  {
   "source": [],
   "cell_type": "markdown",
   "metadata": {}
  }
 ]
}
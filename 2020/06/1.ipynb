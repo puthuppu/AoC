{
 "metadata": {
  "language_info": {
   "codemirror_mode": {
    "name": "ipython",
    "version": 3
   },
   "file_extension": ".py",
   "mimetype": "text/x-python",
   "name": "python",
   "nbconvert_exporter": "python",
   "pygments_lexer": "ipython3",
   "version": "3.8.5-final"
  },
  "orig_nbformat": 2,
  "kernelspec": {
   "name": "python3",
   "display_name": "Python 3"
  }
 },
 "nbformat": 4,
 "nbformat_minor": 2,
 "cells": [
  {
   "source": [
    "--- Day 6: Custom Customs ---\n",
    "\n",
    "As your flight approaches the regional airport where you'll switch to a much larger plane, customs declaration forms are distributed to the passengers.\n",
    "\n",
    "The form asks a series of 26 yes-or-no questions marked a through z. All you need to do is identify the questions for which __anyone in your group__ answers \"yes\". Since your group is just you, this doesn't take very long.\n",
    "\n",
    "However, the person sitting next to you seems to be experiencing a language barrier and asks if you can help. For each of the people in their group, you write down the questions for which they answer \"yes\", one per line. For example:\n",
    "\n",
    "```text\n",
    "abcx\n",
    "abcy\n",
    "abcz\n",
    "```\n",
    "\n",
    "In this group, there are __6__ questions to which anyone answered \"yes\": `a`, `b`, `c`, `x`, `y`, and `z`. (Duplicate answers to the same question don't count extra; each question counts at most once.)\n",
    "\n",
    "Another group asks for your help, then another, and eventually you've collected answers from every group on the plane (your puzzle input). Each group's answers are separated by a blank line, and within each group, each person's answers are on a single line. For example:\n",
    "\n",
    "```text\n",
    "abc\n",
    "\n",
    "a\n",
    "b\n",
    "c\n",
    "\n",
    "ab\n",
    "ac\n",
    "\n",
    "a\n",
    "a\n",
    "a\n",
    "a\n",
    "\n",
    "b\n",
    "```\n",
    "\n",
    "This list represents answers from five groups:\n",
    "\n",
    "* The first group contains one person who answered \"yes\" to __3__ questions: `a`, `b`, and `c`.\n",
    "* The second group contains three people; combined, they answered \"yes\" to __3__ questions: `a`, `b`, and `c`.\n",
    "* The third group contains two people; combined, they answered \"yes\" to __3__ questions: `a`, `b`, and `c`.\n",
    "* The fourth group contains four people; combined, they answered \"yes\" to only __1__ question, `a`.\n",
    "* The last group contains one person who answered \"yes\" to only __1__ question, `b`.\n",
    "\n",
    "In this example, the sum of these counts is `3 + 3 + 3 + 1 + 1 = 11`.\n",
    "\n",
    "For each group, count the number of questions to which anyone answered \"yes\". __What is the sum of those counts?__\n"
   ],
   "cell_type": "markdown",
   "metadata": {}
  },
  {
   "cell_type": "code",
   "execution_count": 44,
   "metadata": {},
   "outputs": [],
   "source": [
    "def group_count(group, version):\n",
    "    if version == 1:\n",
    "        return len(set(group.replace('\\n','').rstrip()))\n",
    "    else:\n",
    "        responses = [set(a) for a in group.rstrip().split('\\n')]\n",
    "        return(len(responses[0].intersection(*responses)))"
   ]
  },
  {
   "cell_type": "code",
   "execution_count": 45,
   "metadata": {},
   "outputs": [],
   "source": [
    "def read_input(filename):\n",
    "    with open(filename) as group_list:\n",
    "        groups = group_list.read().split('\\n\\n')\n",
    "    return groups"
   ]
  },
  {
   "cell_type": "code",
   "execution_count": 46,
   "metadata": {},
   "outputs": [
    {
     "output_type": "execute_result",
     "data": {
      "text/plain": [
       "6351"
      ]
     },
     "metadata": {},
     "execution_count": 46
    }
   ],
   "source": [
    "groups = read_input('input.txt')\n",
    "sum = 0\n",
    "for group in groups:\n",
    "    sum += group_count(group, 1)\n",
    "sum"
   ]
  },
  {
   "source": [
    "--- Part Two ---\n",
    "\n",
    "As you finish the last group's customs declaration, you notice that you misread one word in the instructions:\n",
    "\n",
    "You don't need to identify the questions to which __anyone__ answered \"yes\"; you need to identify the questions to which __everyone__ answered \"yes\"!\n",
    "\n",
    "Using the same example as above:\n",
    "\n",
    "```text\n",
    "abc\n",
    "\n",
    "a\n",
    "b\n",
    "c\n",
    "\n",
    "ab\n",
    "ac\n",
    "\n",
    "a\n",
    "a\n",
    "a\n",
    "a\n",
    "\n",
    "b\n",
    "```\n",
    "\n",
    "This list represents answers from five groups:\n",
    "\n",
    "* In the first group, everyone (all 1 person) answered \"yes\" to __3__ questions: `a`, `b`, and `c`.\n",
    "* In the second group, there is __no__ question to which everyone answered \"yes\".\n",
    "* In the third group, everyone answered yes to only __1__ question, `a`. Since some people did not answer \"yes\" to `b` or `c`, they don't count.\n",
    "* In the fourth group, everyone answered yes to only __1__ question, `a`.\n",
    "* In the fifth group, everyone (all 1 person) answered \"yes\" to __1__ question, `b`.\n",
    "\n",
    "In this example, the sum of these counts is 3 + 0 + 1 + 1 + 1 = 6.\n",
    "\n",
    "For each group, count the number of questions to which everyone answered \"yes\". What is the sum of those counts?\n"
   ],
   "cell_type": "markdown",
   "metadata": {}
  },
  {
   "cell_type": "code",
   "execution_count": 51,
   "metadata": {},
   "outputs": [
    {
     "output_type": "execute_result",
     "data": {
      "text/plain": [
       "3143"
      ]
     },
     "metadata": {},
     "execution_count": 51
    }
   ],
   "source": [
    "groups = read_input('input.txt')\n",
    "sum = 0\n",
    "for group in groups:\n",
    "    sum += group_count(group, 2)\n",
    "sum"
   ]
  }
 ]
}
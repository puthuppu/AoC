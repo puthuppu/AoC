{
 "metadata": {
  "language_info": {
   "codemirror_mode": {
    "name": "ipython",
    "version": 3
   },
   "file_extension": ".py",
   "mimetype": "text/x-python",
   "name": "python",
   "nbconvert_exporter": "python",
   "pygments_lexer": "ipython3",
   "version": "3.8.5-final"
  },
  "orig_nbformat": 2,
  "kernelspec": {
   "name": "python3",
   "display_name": "Python 3"
  }
 },
 "nbformat": 4,
 "nbformat_minor": 2,
 "cells": [
  {
   "source": [
    "--- Day 5: Binary Boarding ---\n",
    "\n",
    "You board your plane only to discover a new problem: you dropped your boarding pass! You aren't sure which seat is yours, and all of the flight attendants are busy with the flood of people that suddenly made it through passport control.\n",
    "\n",
    "You write a quick program to use your phone's camera to scan all of the nearby boarding passes (your puzzle input); perhaps you can find your seat through process of elimination.\n",
    "\n",
    "Instead of [zones or groups], this airline uses __binary space partitioning__ to seat people. A seat might be specified like `FBFBBFFRLR`, where `F` means \"front\", `B` means \"back\", `L` means \"left\", and `R` means \"right\".\n",
    "\n",
    "The first 7 characters will either be F or B; these specify exactly one of the __128 rows__ on the plane (numbered `0` through `127`). Each letter tells you which half of a region the given seat is in. Start with the whole list of rows; the first letter indicates whether the seat is in the __front__ (`0` through `63`) or the __back__ (`64` through `127`). The next letter indicates which half of that region the seat is in, and so on until you're left with exactly one row.\n",
    "\n",
    "For example, consider just the first seven characters of `FBFBBFFRLR`:\n",
    "\n",
    "* Start by considering the whole range, rows `0` through `127`.\n",
    "* `F` means to take the __lower half__, keeping rows `0` through `63`.\n",
    "* `B` means to take the __upper half__, keeping rows `32` through `63`.\n",
    "* `F` means to take the __lower half__, keeping rows `32` through `47`.\n",
    "* `B` means to take the __upper half__, keeping rows `40` through `47`.\n",
    "* `B` keeps rows `44` through `47`.\n",
    "* `F` keeps rows `44` through `45`.\n",
    "* The final `F` keeps the lower of the two, __row `44`__.\n",
    "\n",
    "The last three characters will be either `L` or `R`; these specify exactly one of the __8 columns__ of seats on the plane (numbered `0` through `7`). The same process as above proceeds again, this time with only three steps. `L` means to keep the __lower half__, while `R` means to keep the __upper half__.\n",
    "\n",
    "For example, consider just the last 3 characters of `FBFBBFFRLR`:\n",
    "\n",
    "* Start by considering the whole range, columns `0` through `7`.\n",
    "* R means to take the __upper half__, keeping columns `4` through `7`.\n",
    "* L means to take the __lower half__, keeping columns `4` through `5`.\n",
    "* The final `R` keeps the upper of the two, __column `5`__.\n",
    "\n",
    "So, decoding `FBFBBFFRLR` reveals that it is the seat at __row `44`, column `5`__.\n",
    "\n",
    "Every seat also has a unique __seat ID__: multiply the row by 8, then add the column. In this example, the seat has ID `44 * 8 + 5 = 357`.\n",
    "\n",
    "Here are some other boarding passes:\n",
    "\n",
    "* `BFFFBBFRRR`: row `70`, column `7`, seat ID `567`.\n",
    "* `FFFBBBFRRR`: row `14`, column `7`, seat ID `119`.\n",
    "* `BBFFBBFRLL`: row `102`, column `4`, seat ID `820`.\n",
    "\n",
    "As a sanity check, look through your list of boarding passes. ++What is the highest seat ID on a boarding pass?__\n",
    "\n",
    "[zone or groups]: https://www.youtube.com/watch?v=oAHbLRjF0vo"
   ],
   "cell_type": "markdown",
   "metadata": {}
  },
  {
   "cell_type": "code",
   "execution_count": 1,
   "metadata": {},
   "outputs": [],
   "source": [
    "def decode_seat(encoded_seat):\n",
    "    row_bin = encoded_seat[:7].replace('F', '0').replace('B', '1')\n",
    "    col_bin = encoded_seat[7:].replace('L', '0').replace('R', '1')\n",
    "    row = int(row_bin, 2)\n",
    "    col = int(col_bin, 2)\n",
    "    seat_id = row * 8 + col\n",
    "    return row, col, seat_id"
   ]
  },
  {
   "cell_type": "code",
   "execution_count": 2,
   "metadata": {},
   "outputs": [],
   "source": [
    "def read_seats(filename):\n",
    "    seats = []\n",
    "    with open(filename) as seat_list:\n",
    "        for line in seat_list:\n",
    "            row, col, seat_id = decode_seat(line)\n",
    "            seats.append({'code':line.rstrip(), 'row':row, 'col':col, 'id':seat_id})\n",
    "    return seats"
   ]
  },
  {
   "cell_type": "code",
   "execution_count": 3,
   "metadata": {},
   "outputs": [],
   "source": [
    "seats = read_seats('input.txt')"
   ]
  },
  {
   "cell_type": "code",
   "execution_count": 4,
   "metadata": {},
   "outputs": [
    {
     "output_type": "execute_result",
     "data": {
      "text/plain": [
       "989"
      ]
     },
     "metadata": {},
     "execution_count": 4
    }
   ],
   "source": [
    "max([seat['id'] for seat in seats])"
   ]
  },
  {
   "source": [
    "--- Part Two ---\n",
    "\n",
    "Ding! The \"fasten seat belt\" signs have turned on. Time to find your seat.\n",
    "\n",
    "It's a completely full flight, so your seat should be the only missing boarding pass in your list. However, there's a catch: some of the seats at the very front and back of the plane don't exist on this aircraft, so they'll be missing from your list as well.\n",
    "\n",
    "Your seat wasn't at the very front or back, though; the seats with IDs +1 and -1 from yours will be in your list.\n",
    "\n",
    "What is the ID of your seat?\n"
   ],
   "cell_type": "markdown",
   "metadata": {}
  },
  {
   "cell_type": "code",
   "execution_count": 5,
   "metadata": {},
   "outputs": [],
   "source": [
    "seat_ids = sorted([seat['id'] for seat in seats])\n",
    "missing_seats = []\n",
    "for i in range(1, len(seat_ids) - 1):\n",
    "    if not (\n",
    "        (seat_ids[i -1] + 1 == seat_ids[i]) and\n",
    "        (seat_ids[i] + 1 == seat_ids[i + 1])\n",
    "    ):\n",
    "        missing_seats.append(seat_ids[i])"
   ]
  },
  {
   "cell_type": "code",
   "execution_count": 6,
   "metadata": {},
   "outputs": [
    {
     "output_type": "execute_result",
     "data": {
      "text/plain": [
       "[547, 549]"
      ]
     },
     "metadata": {},
     "execution_count": 6
    }
   ],
   "source": [
    "missing_seats"
   ]
  }
 ]
}